{
 "cells": [
  {
   "cell_type": "code",
   "execution_count": 1,
   "metadata": {},
   "outputs": [
    {
     "name": "stdout",
     "output_type": "stream",
     "text": [
      "Input a string :AcadGild\n",
      "Reversed String :dliGdacA\n"
     ]
    }
   ],
   "source": [
    "#Assignment 2.3\n",
    "#Write a python program to reverse a word after accepting the input from user\n",
    "\n",
    "inputStr=input(\"Input a string :\")\n",
    "strLength = len(inputStr)-1\n",
    "revStrlist=[]\n",
    "revStr=''\n",
    "for i in range(0,int(strLength)+1):\n",
    "    indexFetch = strLength-i\n",
    "    revStrlist.extend(inputStr[indexFetch])\n",
    "    \n",
    "print(\"Reversed String :\" +revStr.join(revStrlist))    \n",
    "\n",
    "    "
   ]
  },
  {
   "cell_type": "code",
   "execution_count": null,
   "metadata": {},
   "outputs": [],
   "source": []
  }
 ],
 "metadata": {
  "kernelspec": {
   "display_name": "Python 3",
   "language": "python",
   "name": "python3"
  },
  "language_info": {
   "codemirror_mode": {
    "name": "ipython",
    "version": 3
   },
   "file_extension": ".py",
   "mimetype": "text/x-python",
   "name": "python",
   "nbconvert_exporter": "python",
   "pygments_lexer": "ipython3",
   "version": "3.6.4"
  }
 },
 "nbformat": 4,
 "nbformat_minor": 2
}
